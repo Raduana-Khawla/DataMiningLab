{
  "nbformat": 4,
  "nbformat_minor": 0,
  "metadata": {
    "colab": {
      "provenance": []
    },
    "kernelspec": {
      "name": "python3",
      "display_name": "Python 3"
    },
    "language_info": {
      "name": "python"
    }
  },
  "cells": [
    {
      "cell_type": "markdown",
      "source": [
        "Python example using matplotlib and seaborn to create a pie chart, box plot, and bar graph, which are commonly used for visualizing data in data mining:"
      ],
      "metadata": {
        "id": "BT7ZCX0J5Yez"
      }
    },
    {
      "cell_type": "markdown",
      "source": [
        "# **1. Pie Chart**\n",
        "A pie chart is useful for showing the proportion of each category in a dataset."
      ],
      "metadata": {
        "id": "AMe9nnON5lVo"
      }
    },
    {
      "cell_type": "code",
      "source": [
        "import matplotlib.pyplot as plt\n",
        "\n",
        "# Example data\n",
        "labels = ['Category A', 'Category B', 'Category C']\n",
        "sizes = [30, 45, 25]\n",
        "\n",
        "# Draw pie chart\n",
        "plt.figure(figsize=(6, 6))\n",
        "plt.pie(sizes, labels=labels, autopct='%1.1f%%', startangle=140)\n",
        "plt.title(\"Pie Chart Example\")\n",
        "plt.show()\n"
      ],
      "metadata": {
        "id": "kGtIFoh65nvf"
      },
      "execution_count": null,
      "outputs": []
    },
    {
      "cell_type": "markdown",
      "source": [
        "# **2. Box Plot**\n",
        "A box plot (box-and-whisker plot) is helpful to understand the distribution, median, and outliers in the data."
      ],
      "metadata": {
        "id": "pVBBmzLx7d8L"
      }
    },
    {
      "cell_type": "code",
      "source": [
        "import seaborn as sns\n",
        "import pandas as pd\n",
        "\n",
        "# Example data\n",
        "data = {\n",
        "    'Category': ['A', 'A', 'A', 'B', 'B', 'B', 'C', 'C', 'C'],\n",
        "    'Values': [10, 15, 14, 20, 25, 23, 30, 35, 32]\n",
        "}\n",
        "df = pd.DataFrame(data)\n",
        "\n",
        "# Draw box plot\n",
        "plt.figure(figsize=(8, 5))\n",
        "sns.boxplot(x='Category', y='Values', data=df)\n",
        "plt.title(\"Box Plot Example\")\n",
        "plt.show()\n"
      ],
      "metadata": {
        "id": "8BDi7ByT7QJJ"
      },
      "execution_count": null,
      "outputs": []
    },
    {
      "cell_type": "markdown",
      "source": [
        "# **3. Bar Graph**\n",
        "A bar graph shows comparisons among discrete categories or groups."
      ],
      "metadata": {
        "id": "0HtI9Bwa7lxD"
      }
    },
    {
      "cell_type": "code",
      "source": [
        "# Example data\n",
        "categories = ['Category A', 'Category B', 'Category C']\n",
        "values = [10, 20, 15]\n",
        "\n",
        "# Draw bar graph\n",
        "plt.figure(figsize=(8, 5))\n",
        "plt.bar(categories, values, color=['skyblue', 'salmon', 'lightgreen'])\n",
        "plt.title(\"Bar Graph Example\")\n",
        "plt.xlabel(\"Categories\")\n",
        "plt.ylabel(\"Values\")\n",
        "plt.show()\n"
      ],
      "metadata": {
        "id": "1vtrWUjq7n3V"
      },
      "execution_count": null,
      "outputs": []
    }
  ]
}