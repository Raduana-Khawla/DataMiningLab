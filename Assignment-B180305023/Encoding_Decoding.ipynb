{
  "nbformat": 4,
  "nbformat_minor": 0,
  "metadata": {
    "colab": {
      "provenance": []
    },
    "kernelspec": {
      "name": "python3",
      "display_name": "Python 3"
    },
    "language_info": {
      "name": "python"
    }
  },
  "cells": [
    {
      "cell_type": "markdown",
      "source": [
        "Summary\n",
        "## **String Encoding:** Convert strings to bytes using a specified encoding (e.g., UTF-8).\n",
        "# **Base64 Encoding**: Encode binary data as ASCII strings for safe transmission.\n",
        "# **File Encoding**: Read and write files with a specified character encoding.\n",
        "# **JSON Encoding**: Convert Python objects to and from JSON format.\n",
        "# **URL Encoding**: Encode special characters in URLs.\n",
        "# **Hex Encoding**: Convert binary data to and from a hexadecimal representation.\n",
        "# **Handling Encoding Errors**: Manage errors when encoding/decoding data."
      ],
      "metadata": {
        "id": "vcqeDLnjfA34"
      }
    },
    {
      "cell_type": "code",
      "source": [
        "# Method 1. String Encoding\n",
        "# Encoding a String to Bytes\n",
        "# Example string\n",
        "string = \"Hello, World!\"\n",
        "\n",
        "# Encode the string to bytes using UTF-8 encoding\n",
        "encoded_string = string.encode('utf-8')\n",
        "encoded_string"
      ],
      "metadata": {
        "colab": {
          "base_uri": "https://localhost:8080/"
        },
        "id": "Cs0VP_s4f74Y",
        "outputId": "514ef970-53f8-4cae-e280-6b48edad6951"
      },
      "execution_count": 11,
      "outputs": [
        {
          "output_type": "execute_result",
          "data": {
            "text/plain": [
              "b'Hello, World!'"
            ]
          },
          "metadata": {},
          "execution_count": 11
        }
      ]
    },
    {
      "cell_type": "code",
      "source": [
        "# Decoding Bytes Back to String\n",
        "decoded_string = encoded_string.decode('utf-8')\n",
        "decoded_string"
      ],
      "metadata": {
        "colab": {
          "base_uri": "https://localhost:8080/",
          "height": 35
        },
        "id": "6GjYM3W9fsm4",
        "outputId": "119cef6c-e0d6-4e1a-97dd-93341ca7a62b"
      },
      "execution_count": 12,
      "outputs": [
        {
          "output_type": "execute_result",
          "data": {
            "text/plain": [
              "'Hello, World!'"
            ],
            "application/vnd.google.colaboratory.intrinsic+json": {
              "type": "string"
            }
          },
          "metadata": {},
          "execution_count": 12
        }
      ]
    },
    {
      "cell_type": "code",
      "source": [
        "# Method 2. Base64 Encoding and Decoding\n",
        "import base64\n",
        "\n",
        "# Example binary data\n",
        "data = b'Hello, World!'\n",
        "# Encode to Base64\n",
        "encoded_data = base64.b64encode(data)\n",
        "\n",
        "print(encoded_data)  # Output: b'SGVsbG8sIFdvcmxkIQ=='\n",
        "\n",
        "# Decode from Base64\n",
        "decoded_data = base64.b64decode(encoded_data)\n",
        "\n",
        "print(decoded_data)  # Output: b'Hello, World!'\n"
      ],
      "metadata": {
        "colab": {
          "base_uri": "https://localhost:8080/"
        },
        "id": "yWcDaqsPhOdE",
        "outputId": "62c8596d-ef49-4f3f-b5d4-00bb6906b5c1"
      },
      "execution_count": 15,
      "outputs": [
        {
          "output_type": "stream",
          "name": "stdout",
          "text": [
            "b'SGVsbG8sIFdvcmxkIQ=='\n",
            "b'Hello, World!'\n"
          ]
        }
      ]
    },
    {
      "cell_type": "code",
      "source": [
        "# Method 3. File Encoding\n",
        "# Writing to a File with Specific Encoding\n",
        "# Example text with non-ASCII characters\n",
        "text = \"Hello, World! Привет, мир!\"\n",
        "\n",
        "# Write to a file with UTF-8 encoding\n",
        "with open('example.txt', 'w', encoding='utf-8') as file:\n",
        "    file.write(text)\n"
      ],
      "metadata": {
        "id": "YOQHUdbziEWc"
      },
      "execution_count": 16,
      "outputs": []
    },
    {
      "cell_type": "code",
      "source": [
        "# Reading from a File with Specific Encoding\n",
        "# Read from the file with UTF-8 encoding\n",
        "with open('example.txt', 'r', encoding='utf-8') as file:\n",
        "    content = file.read()\n",
        "\n",
        "print(content)  # Output: Hello, World! Привет, мир!\n"
      ],
      "metadata": {
        "colab": {
          "base_uri": "https://localhost:8080/"
        },
        "id": "4GGAFzVLiNzS",
        "outputId": "08b8a43e-98cc-495e-da82-37e37d9abb93"
      },
      "execution_count": 17,
      "outputs": [
        {
          "output_type": "stream",
          "name": "stdout",
          "text": [
            "Hello, World! Привет, мир!\n"
          ]
        }
      ]
    },
    {
      "cell_type": "code",
      "source": [
        "# Method 4. JSON Encoding\n",
        "# Encoding a Python Dictionary to JSON\n",
        "import json\n",
        "\n",
        "# Example dictionary\n",
        "data = {\"name\": \"John\", \"age\": 30, \"city\": \"New York\"}\n",
        "\n",
        "# Convert dictionary to JSON string\n",
        "json_string = json.dumps(data)\n",
        "\n",
        "print(json_string)  # Output: {\"name\": \"John\", \"age\": 30, \"city\": \"New York\"}\n"
      ],
      "metadata": {
        "colab": {
          "base_uri": "https://localhost:8080/"
        },
        "id": "wG9_kAt5iScS",
        "outputId": "c800fa55-c30b-4880-b6c9-93d5b605f7fd"
      },
      "execution_count": 6,
      "outputs": [
        {
          "output_type": "stream",
          "name": "stdout",
          "text": [
            "{\"name\": \"John\", \"age\": 30, \"city\": \"New York\"}\n"
          ]
        }
      ]
    },
    {
      "cell_type": "code",
      "source": [
        "# Decoding JSON to a Python Dictionary\n",
        "# Convert JSON string back to dictionary\n",
        "data = json.loads(json_string)\n",
        "\n",
        "print(data)  # Output: {'name': 'John', 'age': 30, 'city': 'New York'}\n"
      ],
      "metadata": {
        "colab": {
          "base_uri": "https://localhost:8080/"
        },
        "id": "nElCwNsHicOh",
        "outputId": "bfd07289-5d25-45fe-e178-c8284cb59713"
      },
      "execution_count": 7,
      "outputs": [
        {
          "output_type": "stream",
          "name": "stdout",
          "text": [
            "{'name': 'John', 'age': 30, 'city': 'New York'}\n"
          ]
        }
      ]
    },
    {
      "cell_type": "code",
      "source": [
        "# Method 5 URL Encoding\n",
        "import urllib.parse\n",
        "\n",
        "# Example string with special characters\n",
        "url_string = \"Hello World!\"\n",
        "\n",
        "# Encode the string to be used in a URL\n",
        "encoded_url = urllib.parse.quote(url_string)\n",
        "\n",
        "print(encoded_url)  # Output: Hello%20World%21\n",
        "\n",
        "# Decode the URL-encoded string\n",
        "decoded_url = urllib.parse.unquote(encoded_url)\n",
        "\n",
        "print(decoded_url)  # Output: Hello World!\n"
      ],
      "metadata": {
        "colab": {
          "base_uri": "https://localhost:8080/"
        },
        "id": "4H28Vg83ij51",
        "outputId": "b74f9861-6351-4096-9a85-b6a4ea3d72d2"
      },
      "execution_count": 8,
      "outputs": [
        {
          "output_type": "stream",
          "name": "stdout",
          "text": [
            "Hello%20World%21\n",
            "Hello World!\n"
          ]
        }
      ]
    },
    {
      "cell_type": "code",
      "source": [
        "# Method 6. Hexadecimal Encoding\n",
        "# Example binary data\n",
        "data = b'Hello, World!'\n",
        "\n",
        "# Encode to hexadecimal\n",
        "hex_encoded = data.hex()\n",
        "\n",
        "print(hex_encoded)  # Output: 48656c6c6f2c20576f726c6421\n",
        "\n",
        "# Decode from hexadecimal\n",
        "decoded_data = bytes.fromhex(hex_encoded)\n",
        "\n",
        "print(decoded_data)  # Output: b'Hello, World!'\n"
      ],
      "metadata": {
        "colab": {
          "base_uri": "https://localhost:8080/"
        },
        "id": "4EE4UX3_it3n",
        "outputId": "067978e9-c2d8-4eb0-edb3-f908ad1530c6"
      },
      "execution_count": 9,
      "outputs": [
        {
          "output_type": "stream",
          "name": "stdout",
          "text": [
            "48656c6c6f2c20576f726c6421\n",
            "b'Hello, World!'\n"
          ]
        }
      ]
    },
    {
      "cell_type": "code",
      "source": [
        "# Method 7. Handling Encoding Errors\n",
        "# Example string with non-ASCII characters\n",
        "string = \"Hello, World! Привет, мир!\"\n",
        "\n",
        "# Encode with ASCII and handle errors by ignoring them\n",
        "encoded_string = string.encode('ascii', errors='ignore')\n",
        "\n",
        "print(encoded_string)  # Output: b'Hello, World! '\n"
      ],
      "metadata": {
        "colab": {
          "base_uri": "https://localhost:8080/"
        },
        "id": "Wi8GCWpri0A3",
        "outputId": "7fdc589e-5596-4d8a-b8e8-4fac830e235f"
      },
      "execution_count": 10,
      "outputs": [
        {
          "output_type": "stream",
          "name": "stdout",
          "text": [
            "b'Hello, World! , !'\n"
          ]
        }
      ]
    }
  ]
}